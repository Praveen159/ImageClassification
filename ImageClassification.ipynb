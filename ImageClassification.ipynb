{
 "cells": [
  {
   "cell_type": "code",
   "execution_count": 1,
   "metadata": {},
   "outputs": [],
   "source": [
    "import os\n",
    "os.chdir(\"C://Users//hi//Desktop//Assignmnet//All_61326\")"
   ]
  },
  {
   "cell_type": "code",
   "execution_count": 2,
   "metadata": {},
   "outputs": [
    {
     "name": "stderr",
     "output_type": "stream",
     "text": [
      "C:\\Users\\hi\\Anaconda3\\lib\\site-packages\\h5py\\__init__.py:36: FutureWarning: Conversion of the second argument of issubdtype from `float` to `np.floating` is deprecated. In future, it will be treated as `np.float64 == np.dtype(float).type`.\n",
      "  from ._conv import register_converters as _register_converters\n",
      "Using TensorFlow backend.\n"
     ]
    }
   ],
   "source": [
    "import numpy as np\n",
    "import pandas as pd\n",
    "from keras.models import Sequential\n",
    "from keras.layers import Conv2D, MaxPooling2D,Activation\n",
    "from keras.layers import Dropout, Flatten, Dense,BatchNormalization\n",
    "from keras.optimizers import SGD\n",
    "from keras.preprocessing.image import ImageDataGenerator\n",
    "from keras.callbacks import ModelCheckpoint\n"
   ]
  },
  {
   "cell_type": "code",
   "execution_count": 3,
   "metadata": {},
   "outputs": [],
   "source": [
    "dir=\"C://Users//hi//Desktop//Assignmnet//All_61326//train_61326\"\n",
    "test_dir=\"C://Users//hi//Desktop//Assignmnet//All_61326//test_61326\"\n",
    "validation_dir=\"C://Users//hi//Desktop//Assignmnet//All_61326//validation\""
   ]
  },
  {
   "cell_type": "code",
   "execution_count": 4,
   "metadata": {},
   "outputs": [
    {
     "name": "stderr",
     "output_type": "stream",
     "text": [
      "C:\\Users\\hi\\Anaconda3\\lib\\site-packages\\ipykernel_launcher.py:24: UserWarning: Update your `Dense` call to the Keras 2 API: `Dense(256, activation=\"relu\", kernel_initializer=\"uniform\")`\n",
      "C:\\Users\\hi\\Anaconda3\\lib\\site-packages\\ipykernel_launcher.py:27: UserWarning: Update your `Dense` call to the Keras 2 API: `Dense(64, activation=\"relu\", kernel_initializer=\"uniform\")`\n"
     ]
    }
   ],
   "source": [
    "model = Sequential()\n",
    "\n",
    "#model.add(Conv2D(filters=16, kernel_size=(5, 5), input_shape=(img_res, img_res,3)))\n",
    "#model.add(Conv2D(filters=16, kernel_size=[5, 5], input_shape=(3,img_res, img_res,3)))\n",
    "model.add(Conv2D(32, (3, 3), input_shape = (256, 256, 3)))\n",
    "model.add(BatchNormalization())\n",
    "model.add(Activation('relu'))\n",
    "model.add(MaxPooling2D(pool_size=(2,2)))\n",
    "\n",
    "model.add(Conv2D(32, (3, 3), input_shape = (256, 256, 3)))\n",
    "model.add(BatchNormalization())\n",
    "model.add(Activation('relu'))\n",
    "model.add(MaxPooling2D(pool_size=(2,2)))\n",
    "\n",
    "model.add(Conv2D(64, (3, 3), input_shape = (256, 256, 3)))\n",
    "model.add(BatchNormalization())\n",
    "model.add(Activation('relu'))\n",
    "model.add(MaxPooling2D(pool_size=(2,2)))\n",
    "\n",
    "\n",
    "model.add(Flatten())\n",
    "model.add(Dropout(0.2))\n",
    "\n",
    "model.add(Dense(256, init='uniform', activation='relu'))\n",
    "model.add(Dropout(0.4))\n",
    "\n",
    "model.add(Dense(64, init='uniform', activation='relu'))\n",
    "model.add(Dropout(0.4))\n",
    "\n",
    "\n",
    "model.add(Dense(6, activation='softmax'))\n",
    "\n",
    "\n"
   ]
  },
  {
   "cell_type": "code",
   "execution_count": 5,
   "metadata": {},
   "outputs": [
    {
     "name": "stdout",
     "output_type": "stream",
     "text": [
      "Found 197 images belonging to 6 classes.\n"
     ]
    }
   ],
   "source": [
    "generator=ImageDataGenerator(\n",
    "        rescale=1./255,\n",
    "        shear_range=0.2,\n",
    "        zoom_range=0.2,\n",
    "        horizontal_flip=True)\n",
    "train_gen=generator.flow_from_directory(dir,target_size=(256,256),batch_size=10,class_mode=\"categorical\")"
   ]
  },
  {
   "cell_type": "code",
   "execution_count": 6,
   "metadata": {},
   "outputs": [],
   "source": [
    "test_generator=ImageDataGenerator(\n",
    "        rescale=1./255,\n",
    "        )"
   ]
  },
  {
   "cell_type": "code",
   "execution_count": 7,
   "metadata": {},
   "outputs": [],
   "source": [
    "model.compile(loss='categorical_crossentropy',\n",
    "              optimizer='adam',\n",
    "              metrics=['accuracy'])"
   ]
  },
  {
   "cell_type": "code",
   "execution_count": 10,
   "metadata": {},
   "outputs": [
    {
     "name": "stdout",
     "output_type": "stream",
     "text": [
      "Found 20 images belonging to 6 classes.\n"
     ]
    }
   ],
   "source": [
    "validation_gen=test_generator.flow_from_directory(validation_dir,target_size=(256,256),batch_size=2,class_mode=\"categorical\")"
   ]
  },
  {
   "cell_type": "code",
   "execution_count": 8,
   "metadata": {},
   "outputs": [],
   "source": [
    "checkpoint=ModelCheckpoint(\"weights.hdf5\",monitor=\"val_acc\",verbose=1,save_best_only=True,mode='max')\n",
    "checkpoint1=ModelCheckpoint(\"weights1.hdf5\",monitor=\"val_acc\",verbose=1,save_best_only=True,mode='max')"
   ]
  },
  {
   "cell_type": "code",
   "execution_count": 11,
   "metadata": {},
   "outputs": [
    {
     "name": "stderr",
     "output_type": "stream",
     "text": [
      "C:\\Users\\hi\\Anaconda3\\lib\\site-packages\\ipykernel_launcher.py:1: UserWarning: The semantics of the Keras 2 argument `steps_per_epoch` is not the same as the Keras 1 argument `samples_per_epoch`. `steps_per_epoch` is the number of batches to draw from the generator at each epoch. Basically steps_per_epoch = samples_per_epoch/batch_size. Similarly `nb_val_samples`->`validation_steps` and `val_samples`->`steps` arguments have changed. Update your method calls accordingly.\n",
      "  \"\"\"Entry point for launching an IPython kernel.\n",
      "C:\\Users\\hi\\Anaconda3\\lib\\site-packages\\ipykernel_launcher.py:1: UserWarning: Update your `fit_generator` call to the Keras 2 API: `fit_generator(<keras_pre..., validation_data=<keras_pre..., callbacks=[<keras.ca..., steps_per_epoch=2, epochs=5)`\n",
      "  \"\"\"Entry point for launching an IPython kernel.\n"
     ]
    },
    {
     "name": "stdout",
     "output_type": "stream",
     "text": [
      "Epoch 1/5\n",
      "2/2 [==============================] - 43s 22s/step - loss: 5.7665 - acc: 0.2500 - val_loss: 8.7451 - val_acc: 0.4000\n",
      "\n",
      "Epoch 00001: val_acc improved from -inf to 0.40000, saving model to weights1.hdf5\n",
      "Epoch 2/5\n",
      "2/2 [==============================] - 33s 17s/step - loss: 8.7800 - acc: 0.2000 - val_loss: 9.6709 - val_acc: 0.4000\n",
      "\n",
      "Epoch 00002: val_acc did not improve from 0.40000\n",
      "Epoch 3/5\n",
      "2/2 [==============================] - 36s 18s/step - loss: 7.6342 - acc: 0.4500 - val_loss: 9.6709 - val_acc: 0.4000\n",
      "\n",
      "Epoch 00003: val_acc did not improve from 0.40000\n",
      "Epoch 4/5\n",
      "2/2 [==============================] - 34s 17s/step - loss: 10.4496 - acc: 0.3500 - val_loss: 9.6709 - val_acc: 0.4000\n",
      "\n",
      "Epoch 00004: val_acc did not improve from 0.40000\n",
      "Epoch 5/5\n",
      "2/2 [==============================] - 30s 15s/step - loss: 11.2755 - acc: 0.3000 - val_loss: 9.6709 - val_acc: 0.4000\n",
      "\n",
      "Epoch 00005: val_acc did not improve from 0.40000\n"
     ]
    },
    {
     "data": {
      "text/plain": [
       "<keras.callbacks.History at 0x1bdd2813a20>"
      ]
     },
     "execution_count": 11,
     "metadata": {},
     "output_type": "execute_result"
    }
   ],
   "source": [
    "model.fit_generator(train_gen,samples_per_epoch=20,nb_epoch=5,validation_data=validation_gen,callbacks=[checkpoint1])"
   ]
  },
  {
   "cell_type": "code",
   "execution_count": 53,
   "metadata": {},
   "outputs": [
    {
     "name": "stdout",
     "output_type": "stream",
     "text": [
      "Epoch 1/5\n"
     ]
    },
    {
     "name": "stderr",
     "output_type": "stream",
     "text": [
      "C:\\Users\\hi\\Anaconda3\\lib\\site-packages\\ipykernel_launcher.py:1: UserWarning: The semantics of the Keras 2 argument `steps_per_epoch` is not the same as the Keras 1 argument `samples_per_epoch`. `steps_per_epoch` is the number of batches to draw from the generator at each epoch. Basically steps_per_epoch = samples_per_epoch/batch_size. Similarly `nb_val_samples`->`validation_steps` and `val_samples`->`steps` arguments have changed. Update your method calls accordingly.\n",
      "  \"\"\"Entry point for launching an IPython kernel.\n",
      "C:\\Users\\hi\\Anaconda3\\lib\\site-packages\\ipykernel_launcher.py:1: UserWarning: Update your `fit_generator` call to the Keras 2 API: `fit_generator(<keras_pre..., validation_data=<keras_pre..., callbacks=[<keras.ca..., steps_per_epoch=2, epochs=5)`\n",
      "  \"\"\"Entry point for launching an IPython kernel.\n"
     ]
    },
    {
     "name": "stdout",
     "output_type": "stream",
     "text": [
      "2/2 [==============================] - 38s 19s/step - loss: 12.8946 - acc: 0.2000 - val_loss: 12.0886 - val_acc: 0.2500\n",
      "\n",
      "Epoch 00001: val_acc did not improve from 0.40000\n",
      "Epoch 2/5\n",
      "2/2 [==============================] - 34s 17s/step - loss: 8.0590 - acc: 0.5000 - val_loss: 12.0886 - val_acc: 0.2500\n",
      "\n",
      "Epoch 00002: val_acc did not improve from 0.40000\n",
      "Epoch 3/5\n",
      "2/2 [==============================] - 34s 17s/step - loss: 6.0845 - acc: 0.6000 - val_loss: 12.0886 - val_acc: 0.2500\n",
      "\n",
      "Epoch 00003: val_acc did not improve from 0.40000\n",
      "Epoch 4/5\n",
      "2/2 [==============================] - 34s 17s/step - loss: 11.0450 - acc: 0.3000 - val_loss: 12.0886 - val_acc: 0.2500\n",
      "\n",
      "Epoch 00004: val_acc did not improve from 0.40000\n",
      "Epoch 5/5\n",
      "2/2 [==============================] - 30s 15s/step - loss: 8.0591 - acc: 0.5000 - val_loss: 12.0886 - val_acc: 0.2500\n",
      "\n",
      "Epoch 00005: val_acc did not improve from 0.40000\n"
     ]
    }
   ],
   "source": [
    "history=model.fit_generator(train_gen,samples_per_epoch=20,nb_epoch=5,validation_data=validation_gen,callbacks=[checkpoint1])"
   ]
  },
  {
   "cell_type": "code",
   "execution_count": 21,
   "metadata": {},
   "outputs": [
    {
     "name": "stderr",
     "output_type": "stream",
     "text": [
      "C:\\Users\\hi\\Anaconda3\\lib\\site-packages\\ipykernel_launcher.py:1: UserWarning: The semantics of the Keras 2 argument `steps_per_epoch` is not the same as the Keras 1 argument `samples_per_epoch`. `steps_per_epoch` is the number of batches to draw from the generator at each epoch. Basically steps_per_epoch = samples_per_epoch/batch_size. Similarly `nb_val_samples`->`validation_steps` and `val_samples`->`steps` arguments have changed. Update your method calls accordingly.\n",
      "  \"\"\"Entry point for launching an IPython kernel.\n",
      "C:\\Users\\hi\\Anaconda3\\lib\\site-packages\\ipykernel_launcher.py:1: UserWarning: Update your `fit_generator` call to the Keras 2 API: `fit_generator(<keras_pre..., validation_data=<keras_pre..., callbacks=[<keras.ca..., steps_per_epoch=2, epochs=10)`\n",
      "  \"\"\"Entry point for launching an IPython kernel.\n"
     ]
    },
    {
     "name": "stdout",
     "output_type": "stream",
     "text": [
      "Epoch 1/10\n",
      "2/2 [==============================] - 41s 21s/step - loss: 9.6709 - acc: 0.4000 - val_loss: 12.0886 - val_acc: 0.2500\n",
      "\n",
      "Epoch 00001: val_acc improved from -inf to 0.25000, saving model to weights1.hdf5\n",
      "Epoch 2/10\n",
      "2/2 [==============================] - 38s 19s/step - loss: 10.4768 - acc: 0.3500 - val_loss: 12.0886 - val_acc: 0.2500\n",
      "\n",
      "Epoch 00002: val_acc did not improve from 0.25000\n",
      "Epoch 3/10\n",
      "2/2 [==============================] - 37s 19s/step - loss: 5.5804 - acc: 0.6538 - val_loss: 12.0886 - val_acc: 0.2500\n",
      "\n",
      "Epoch 00003: val_acc did not improve from 0.25000\n",
      "Epoch 4/10\n",
      "2/2 [==============================] - 45s 23s/step - loss: 8.0590 - acc: 0.5000 - val_loss: 12.0886 - val_acc: 0.2500\n",
      "\n",
      "Epoch 00004: val_acc did not improve from 0.25000\n",
      "Epoch 5/10\n",
      "2/2 [==============================] - 41s 21s/step - loss: 15.3122 - acc: 0.0500 - val_loss: 12.0886 - val_acc: 0.2500\n",
      "\n",
      "Epoch 00005: val_acc did not improve from 0.25000\n",
      "Epoch 6/10\n",
      "2/2 [==============================] - 34s 17s/step - loss: 11.2827 - acc: 0.3000 - val_loss: 12.0886 - val_acc: 0.2500\n",
      "\n",
      "Epoch 00006: val_acc did not improve from 0.25000\n",
      "Epoch 7/10\n",
      "2/2 [==============================] - 29s 15s/step - loss: 7.2532 - acc: 0.5500 - val_loss: 12.0886 - val_acc: 0.2500\n",
      "\n",
      "Epoch 00007: val_acc did not improve from 0.25000\n",
      "Epoch 8/10\n",
      "2/2 [==============================] - 31s 15s/step - loss: 7.2531 - acc: 0.5500 - val_loss: 12.0886 - val_acc: 0.2500\n",
      "\n",
      "Epoch 00008: val_acc did not improve from 0.25000\n",
      "Epoch 9/10\n",
      "2/2 [==============================] - 35s 17s/step - loss: 10.4768 - acc: 0.3500 - val_loss: 12.0886 - val_acc: 0.2500\n",
      "\n",
      "Epoch 00009: val_acc did not improve from 0.25000\n",
      "Epoch 10/10\n",
      "2/2 [==============================] - 43s 21s/step - loss: 8.8662 - acc: 0.4500 - val_loss: 12.0886 - val_acc: 0.2500\n",
      "\n",
      "Epoch 00010: val_acc did not improve from 0.25000\n"
     ]
    },
    {
     "data": {
      "text/plain": [
       "<keras.callbacks.History at 0x26a7abede10>"
      ]
     },
     "execution_count": 21,
     "metadata": {},
     "output_type": "execute_result"
    }
   ],
   "source": [
    "model.fit_generator(train_gen,samples_per_epoch=20,nb_epoch=10,validation_data=validation_gen,callbacks=[checkpoint1])"
   ]
  },
  {
   "cell_type": "code",
   "execution_count": 27,
   "metadata": {},
   "outputs": [
    {
     "ename": "AttributeError",
     "evalue": "'NoneType' object has no attribute 'predict_generator'",
     "output_type": "error",
     "traceback": [
      "\u001b[1;31m---------------------------------------------------------------------------\u001b[0m",
      "\u001b[1;31mAttributeError\u001b[0m                            Traceback (most recent call last)",
      "\u001b[1;32m<ipython-input-27-02ee822e3c3d>\u001b[0m in \u001b[0;36m<module>\u001b[1;34m()\u001b[0m\n\u001b[0;32m      1\u001b[0m \u001b[0mwei\u001b[0m\u001b[1;33m=\u001b[0m\u001b[0mmodel\u001b[0m\u001b[1;33m.\u001b[0m\u001b[0mload_weights\u001b[0m\u001b[1;33m(\u001b[0m\u001b[1;34m\"C://Users//hi//Desktop//Assignmnet//All_61326//weights.hdf5\"\u001b[0m\u001b[1;33m)\u001b[0m\u001b[1;33m\u001b[0m\u001b[0m\n\u001b[1;32m----> 2\u001b[1;33m \u001b[0mtest1\u001b[0m\u001b[1;33m=\u001b[0m\u001b[0mwei\u001b[0m\u001b[1;33m.\u001b[0m\u001b[0mpredict_generator\u001b[0m\u001b[1;33m(\u001b[0m\u001b[0mtest_generator\u001b[0m\u001b[1;33m)\u001b[0m\u001b[1;33m\u001b[0m\u001b[0m\n\u001b[0m",
      "\u001b[1;31mAttributeError\u001b[0m: 'NoneType' object has no attribute 'predict_generator'"
     ]
    }
   ],
   "source": [
    "wei=model.load_weights(\"C://Users//hi//Desktop//Assignmnet//All_61326//weights.hdf5\")\n"
   ]
  },
  {
   "cell_type": "code",
   "execution_count": null,
   "metadata": {},
   "outputs": [],
   "source": []
  },
  {
   "cell_type": "code",
   "execution_count": 41,
   "metadata": {},
   "outputs": [
    {
     "name": "stdout",
     "output_type": "stream",
     "text": [
      "Found 6 images belonging to 1 classes.\n"
     ]
    }
   ],
   "source": [
    "test_generator=generator.flow_from_directory(test_dir,target_size=(256,256),batch_size=1,class_mode=\"categorical\")"
   ]
  },
  {
   "cell_type": "code",
   "execution_count": 18,
   "metadata": {},
   "outputs": [
    {
     "data": {
      "text/plain": [
       "{'test': 0}"
      ]
     },
     "execution_count": 18,
     "metadata": {},
     "output_type": "execute_result"
    }
   ],
   "source": [
    "test_generator.class_indices"
   ]
  },
  {
   "cell_type": "code",
   "execution_count": 42,
   "metadata": {},
   "outputs": [],
   "source": [
    "testprediction = model.predict_generator(test_generator)"
   ]
  },
  {
   "cell_type": "code",
   "execution_count": 34,
   "metadata": {},
   "outputs": [
    {
     "data": {
      "text/plain": [
       "array([[0.0000000e+00, 2.3991968e-29, 1.0000000e+00, 0.0000000e+00,\n",
       "        1.5322960e-19, 3.3412072e-17],\n",
       "       [0.0000000e+00, 7.6108575e-29, 7.8839013e-38, 0.0000000e+00,\n",
       "        1.0000000e+00, 5.6870921e-19],\n",
       "       [9.8539295e-34, 0.0000000e+00, 2.2066043e-29, 0.0000000e+00,\n",
       "        4.1460624e-19, 1.0000000e+00],\n",
       "       [1.4000435e-35, 0.0000000e+00, 7.5193120e-31, 0.0000000e+00,\n",
       "        3.7168162e-20, 1.0000000e+00],\n",
       "       [0.0000000e+00, 4.7872937e-27, 1.0000000e+00, 5.0595647e-38,\n",
       "        1.9014326e-17, 4.5097734e-18],\n",
       "       [5.1599618e-32, 1.7552769e-36, 6.3558176e-27, 0.0000000e+00,\n",
       "        5.1195143e-13, 1.0000000e+00]], dtype=float32)"
      ]
     },
     "execution_count": 34,
     "metadata": {},
     "output_type": "execute_result"
    }
   ],
   "source": [
    "testprediction"
   ]
  },
  {
   "cell_type": "code",
   "execution_count": 45,
   "metadata": {},
   "outputs": [],
   "source": [
    "classes=testprediction.argmax(axis=-1)"
   ]
  },
  {
   "cell_type": "code",
   "execution_count": 46,
   "metadata": {},
   "outputs": [
    {
     "data": {
      "text/plain": [
       "array([5, 5, 5, 5, 5, 5], dtype=int64)"
      ]
     },
     "execution_count": 46,
     "metadata": {},
     "output_type": "execute_result"
    }
   ],
   "source": [
    "classes"
   ]
  }
 ],
 "metadata": {
  "kernelspec": {
   "display_name": "Python 3",
   "language": "python",
   "name": "python3"
  },
  "language_info": {
   "codemirror_mode": {
    "name": "ipython",
    "version": 3
   },
   "file_extension": ".py",
   "mimetype": "text/x-python",
   "name": "python",
   "nbconvert_exporter": "python",
   "pygments_lexer": "ipython3",
   "version": "3.6.5"
  }
 },
 "nbformat": 4,
 "nbformat_minor": 2
}
